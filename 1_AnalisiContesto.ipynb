{
  "nbformat": 4,
  "nbformat_minor": 0,
  "metadata": {
    "colab": {
      "provenance": []
    },
    "kernelspec": {
      "name": "python3",
      "display_name": "Python 3"
    },
    "language_info": {
      "name": "python"
    }
  },
  "cells": [
    {
      "cell_type": "markdown",
      "source": [
        "# Notebook 1 – Analisi e contesto\n",
        "\n",
        "Questo notebook contiene l’analisi preliminare dei dati sulla temperatura a Bologna, le temperature pericolose e la demografica che ci interessa di Bologna e la definizione del contesto del progetto.\n",
        "\n",
        "Progettazione, dati open, personae, user stories, use case, product canvas\n"
      ],
      "metadata": {
        "id": "3WINtBFK1zDo"
      }
    },
    {
      "cell_type": "markdown",
      "source": [
        "# **Temperature moderate ed estreme e rischio climatico-sanitario a Bologna: uno studio data-driven sul rischio climatico**"
      ],
      "metadata": {
        "id": "dV6bHjBera6S"
      }
    },
    {
      "cell_type": "markdown",
      "source": [
        "## Metodologia per l’Analisi delle Temperature Estreme\n",
        "\n",
        "Il nostro progetto si basa su evidenze scientifiche presentate negli studi di Gasparrini et al. (2015), i quali mostrano che:\n",
        "\n",
        "- Non solo gli eventi estremi (es. ondate di calore o gelo) causano mortalità, ma anche giornate **moderatamente calde o fredde** hanno un impatto significativo sulla salute pubblica.\n",
        "- Le temperature ottimali (minima mortalità) si collocano spesso oltre il percentile 80 o 85 della distribuzione locale.\n",
        "- Le soglie per definire \"caldo estremo\" e \"freddo estremo\" non sono fisse ma dipendono dal clima locale e vengono calcolate sui percentili:\n",
        "    - Extreme cold: temperature < 2,5° percentile\n",
        "    - Moderate cold: tra 2,5° percentile e temperatura ottimale\n",
        "    - Moderate heat: tra temperatura ottimale e 97,5° percentile\n",
        "    - Extreme heat: temperature > 97,5° percentile\n",
        "\n",
        "**Obiettivi della nostra analisi:**\n",
        "\n",
        "1. Calcolare i percentili chiave sulla distribuzione della temperatura di Bologna.\n",
        "2. Classificare ogni giorno in una categoria termica (moderate/extreme heat/cold).\n",
        "3. Analizzare la frequenza dei giorni in ciascuna categoria.\n",
        "4. Incrociare queste informazioni con i dati di mortalità per verificare se:\n",
        "    - Le morti siano più frequenti in giornate moderate rispetto agli estremi.\n",
        "    - Esistano differenze tra le stagioni.\n",
        "    - Luciana e altre persone vulnerabili siano esposte a rischi nascosti in giornate non estreme.\n",
        "\n",
        "Questa metodologia consente di realizzare uno strumento di allerta climatico-sanitario basato su soglie locali, in linea con quanto indicato dagli studi epidemiologici più recenti.\n"
      ],
      "metadata": {
        "id": "cBGjhqJVr8Wl"
      }
    },
    {
      "cell_type": "markdown",
      "source": [
        "### Determinazione della Temperatura Ottimale (OT) in assenza di dati di mortalità\n",
        "\n",
        "La metodologia classica per l'analisi del rischio climatico-sanitario prevede l'individuazione della **Temperatura Ottimale (OT)**, ossia il valore termico associato alla minima mortalità. Tuttavia, nel caso di Bologna, **non disponiamo di dati epidemiologici locali** che colleghino direttamente la mortalità quotidiana alle variazioni di temperatura.  \n",
        "\n",
        "**Per questa ragione, abbiamo adottato un approccio alternativo, data-driven, per stimare la OT**, basato esclusivamente sulla distribuzione statistica delle temperature osservate nel nostro dataset storico (2019-2025).  \n",
        "\n",
        "In particolare:\n",
        "- abbiamo analizzato la distribuzione delle temperature medie giornaliere (tmed) tramite istogrammi e misure di tendenza centrale (mediana, moda);\n",
        "- abbiamo scelto di utilizzare la **mediana della temperatura media giornaliera** come proxy ragionevole della Temperatura Ottimale (OT), in linea con approcci presenti in letteratura quando mancano dati di mortalità;\n",
        "- tale scelta si basa sull'ipotesi che il valore centrale della distribuzione rappresenti una condizione climatica abituale, meno associata a stress termici estremi per la popolazione.\n",
        "\n",
        "Questa soluzione, pur non sostituendo l'analisi epidemiologica, **ci consente comunque di definire soglie locali per identificare eventi di caldo o freddo moderato ed estremo**, calcolando i percentili chiave (2,5° e 97,5°) rispetto alla temperatura ottimale così stimata.\n",
        "\n",
        "In prospettiva futura, il nostro approccio potrà essere integrato con dati sanitari per affinare ulteriormente la stima della Temperatura Ottimale e valutare in modo più preciso l'impatto sanitario degli eventi termici estremi a Bologna.\n"
      ],
      "metadata": {
        "id": "-DDg1UMxsS2r"
      }
    },
    {
      "cell_type": "markdown",
      "source": [
        "# **Popolazioni a Rischio e Fattori di Vulnerabilità**"
      ],
      "metadata": {
        "id": "CU4bqIWiS_pT"
      }
    },
    {
      "cell_type": "markdown",
      "source": [
        "Una parte essenziale del nostro progetto è comprendere **quali gruppi di popolazione siano maggiormente a rischio a causa delle temperature estreme** (e non solo).\n",
        "\n",
        "Studi recenti mostrano chiaramente che la **vulnerabilità termica non dipende esclusivamente dai valori assoluti di temperatura**, ma è amplificata da **caratteristiche individuali, sociali e ambientali**.\n",
        "\n",
        "# Fasce d’età sensibili\n",
        "- **Anziani (65+):** sono tra i più vulnerabili al caldo estremo per via di una termoregolazione meno efficiente, presenza di malattie croniche e isolamento sociale. Il rischio di mortalità aumenta significativamente anche in giornate moderatamente calde.\n",
        "\n",
        "- **Bambini (<5 anni):** sono più esposti per motivi biologici (instabilità termoregolatoria) e dipendono dagli adulti per protezione.\n",
        "\n",
        "# Condizioni socio-economiche\n",
        "\n",
        "- **Persone con basso reddito** tendono a vivere in abitazioni meno isolate, senza climatizzazione, e con minor accesso a cure mediche.\n",
        "\n",
        "- **Minoranze etniche e razziali**, soprattutto nei contesti urbani, sperimentano esposizioni termiche più elevate dovute alla collocazione abitativa (es. quartieri con meno alberature, più cemento) e alla maggiore probabilità di vivere in “urban heat islands”.\n",
        "\n",
        "# Altri fattori di rischio\n",
        "\n",
        "- **Disabilità**: mobilità ridotta, comorbidità, e barriere logistiche o comunicative contribuiscono a una maggiore esposizione e minore capacità di reagire a eventi estremi.\n",
        "\n",
        "- **Isolamento sociale**: vivere da soli, soprattutto in età avanzata, è un fattore di rischio documentato.\n",
        "\n",
        "- **Condizioni di salute pregresse**: in particolare cardiovascolari e respiratorie, che aumentano la letalità sia con il freddo che con il caldo."
      ],
      "metadata": {
        "id": "cP881GTKTYTe"
      }
    },
    {
      "cell_type": "markdown",
      "source": [
        "# Implicazioni per il Progetto\n",
        "\n",
        "Queste informazioni ci consentono di:\n",
        "\n",
        "1. **Costruire Personae realistiche**, come Luciana (anziana sola), per testare l’efficacia delle nostre analisi e visualizzazioni.\n",
        "\n",
        "2. **Integrare layer informativi** nei nostri strumenti (es. mappe o dashboard) che rappresentino la vulnerabilità sociale e sanitaria, non solo l’esposizione termica.\n",
        "\n",
        "3. **Definire soglie di allerta personalizzate**: per alcune categorie, l’intervallo moderatamente caldo può essere già critico, suggerendo la necessità di allarmi precoci anche in assenza di eventi estremi."
      ],
      "metadata": {
        "id": "aCbcEYSNU57V"
      }
    },
    {
      "cell_type": "markdown",
      "source": [
        "# Connessioni con la Pianificazione Sanitaria\n",
        "\n",
        "Gli studi dimostrano che le **morti legate al freddo** superano quelle legate al caldo, ma ricevono meno attenzione mediatica e politica.\n",
        "\n",
        "Allo stesso tempo, le **giornate moderatamente calde e fredde causano molte più morti rispetto agli estremi**.\n",
        "\n",
        "Questo rafforza la **necessità di strumenti predittivi locali e basati su dati reali**, che siano utilizzabili dai servizi sanitari e sociali locali per migliorare l’adattamento urbano e il supporto ai soggetti fragili"
      ],
      "metadata": {
        "id": "ikkTNmnlVQ8N"
      }
    },
    {
      "cell_type": "markdown",
      "source": [
        "#**Dataset utilizzati**"
      ],
      "metadata": {
        "id": "8veyGwI9kmsO"
      }
    },
    {
      "cell_type": "markdown",
      "source": [
        "Per il progetto *“Temperature moderate ed estreme e rischio climatico-sanitario a Bologna”* abbiamo selezionato tre dataset aperti. Per questo motivo abbiamo raccolto (in un file cvs) e analizzato i seguenti open data:\n",
        "\n"
      ],
      "metadata": {
        "id": "77otuA8Jk3hN"
      }
    },
    {
      "cell_type": "markdown",
      "source": [
        "•\tKaggle: https://www.kaggle.com/datasets/willianoliveiragibin/extreme-temperatures\n",
        "1.\tDataset sulla mortalità in relazione alla temperatura, basato sulla metodologia di Gasparrini.\n",
        "2.\tNel progetto il dataset è salvato come “deathsTemperature.csv”.\n"
      ],
      "metadata": {
        "id": "FDu3YjQwl_Oq"
      }
    },
    {
      "cell_type": "markdown",
      "source": [
        "•\tOpen-Meteo: https://open-meteo.com/en/docs\n",
        "1.\tDati storici sulle temperature a Bologna, con granularità giornaliera.\n",
        "2.\tNel progetto il dataset è salvato come “bolognaTemperature.csv”.\n"
      ],
      "metadata": {
        "id": "hlkM3KsrmHYH"
      }
    },
    {
      "cell_type": "markdown",
      "source": [
        "•\tISTAT: https://esploradati.istat.it/databrowser/#/it/dw/categories/IT1,POP,1.0/POP_POPULATION/DCIS_POPRES1/IT1,22_289_DF_DCIS_POPRES1_24,1.0\n",
        "1.\tDati ISTAT sulla popolazione per singola età e comune italiano, utile per identificare la densità di persone anziane per zona.\n",
        "2.\tNel progetto il dataset è salvato come “demografica.csv”.\n"
      ],
      "metadata": {
        "id": "GOqAY22smOoN"
      }
    },
    {
      "cell_type": "markdown",
      "source": [
        "Il primo dataset rispecchia tutti e tre i criteri di open-Data poiché è disponibile secondo i termini della licenza “cco” che ne garantisce il libero utilizzo a chiunque, inoltre è accessibile tramite il formato open data “csv” e gratuito poiché basta un account kaggle senza costi aggiuntivi per usufruirne."
      ],
      "metadata": {
        "id": "veSmQzD2mRo0"
      }
    },
    {
      "cell_type": "markdown",
      "source": [
        "Il secondo e il terzo dataset presentano caratteristiche simili: sono disponibili seconda la licenza “CC BY 4.0”, sono gratuiti e accessibili in formato aperto (csv)."
      ],
      "metadata": {
        "id": "BUUCpLOXmZJz"
      }
    },
    {
      "cell_type": "markdown",
      "source": [
        "La scelta di questi dataset è importante per la realizzazione del progetto in quanto essi permettono di incrociare i dati storici sulle temperature con le categorie di persone a rischio da noi considerate. Tutto questo basandoci sulle evidenze scientifiche di Gasparini."
      ],
      "metadata": {
        "id": "itOkHOfQmbyu"
      }
    },
    {
      "cell_type": "markdown",
      "source": [
        "## Importazione librerie e creazione dei DataFrames"
      ],
      "metadata": {
        "id": "lXONDsnrboFj"
      }
    },
    {
      "cell_type": "code",
      "execution_count": 1,
      "metadata": {
        "id": "5JtWvSMW1xXI"
      },
      "outputs": [],
      "source": [
        "import pandas as pd\n",
        "import numpy as np\n",
        "import matplotlib.pyplot as plt\n",
        "import seaborn as sns\n",
        "\n",
        "df_temp = pd.read_csv(\"bolognaTemperature.csv\", sep=\";\")\n",
        "df_demo = pd.read_csv(\"demografica.csv\")\n",
        "df_death = pd.read_csv(\"deathsTemperature.csv\")"
      ]
    },
    {
      "cell_type": "markdown",
      "source": [
        "\n",
        "\n",
        "---\n",
        "\n",
        "\n",
        "# df_temp: Analisi\n",
        "\n",
        "\n",
        "---\n",
        "\n"
      ],
      "metadata": {
        "id": "z1ajgn1_b0Zu"
      }
    },
    {
      "cell_type": "markdown",
      "source": [
        "**Vediamo com'é strutturato il dataset.**\n",
        "\n",
        "\n",
        "---\n",
        "\n"
      ],
      "metadata": {
        "id": "eQtb8_oGoUrS"
      }
    },
    {
      "cell_type": "code",
      "source": [
        "df_temp.head()"
      ],
      "metadata": {
        "colab": {
          "base_uri": "https://localhost:8080/",
          "height": 206
        },
        "id": "tI5R0sej0fM0",
        "outputId": "15dcd3da-6ba9-446b-8889-a9a0619044ea"
      },
      "execution_count": 2,
      "outputs": [
        {
          "output_type": "execute_result",
          "data": {
            "text/plain": [
              "         Data  Temperatura media  Temperatura massima  Temperatura minima  \\\n",
              "0  2001-01-01                2.7                  6.5                -0.2   \n",
              "1  2001-01-02                3.8                  7.0                 1.5   \n",
              "2  2001-01-03                3.6                  7.2                 1.2   \n",
              "3  2001-01-04                1.8                  4.2                 0.6   \n",
              "4  2001-01-07                5.8                  8.6                 3.0   \n",
              "\n",
              "  Stagione  \n",
              "0  Inverno  \n",
              "1  Inverno  \n",
              "2  Inverno  \n",
              "3  Inverno  \n",
              "4  Inverno  "
            ],
            "text/html": [
              "\n",
              "  <div id=\"df-8cd0e709-2150-4ab3-acf0-fa16b22ef268\" class=\"colab-df-container\">\n",
              "    <div>\n",
              "<style scoped>\n",
              "    .dataframe tbody tr th:only-of-type {\n",
              "        vertical-align: middle;\n",
              "    }\n",
              "\n",
              "    .dataframe tbody tr th {\n",
              "        vertical-align: top;\n",
              "    }\n",
              "\n",
              "    .dataframe thead th {\n",
              "        text-align: right;\n",
              "    }\n",
              "</style>\n",
              "<table border=\"1\" class=\"dataframe\">\n",
              "  <thead>\n",
              "    <tr style=\"text-align: right;\">\n",
              "      <th></th>\n",
              "      <th>Data</th>\n",
              "      <th>Temperatura media</th>\n",
              "      <th>Temperatura massima</th>\n",
              "      <th>Temperatura minima</th>\n",
              "      <th>Stagione</th>\n",
              "    </tr>\n",
              "  </thead>\n",
              "  <tbody>\n",
              "    <tr>\n",
              "      <th>0</th>\n",
              "      <td>2001-01-01</td>\n",
              "      <td>2.7</td>\n",
              "      <td>6.5</td>\n",
              "      <td>-0.2</td>\n",
              "      <td>Inverno</td>\n",
              "    </tr>\n",
              "    <tr>\n",
              "      <th>1</th>\n",
              "      <td>2001-01-02</td>\n",
              "      <td>3.8</td>\n",
              "      <td>7.0</td>\n",
              "      <td>1.5</td>\n",
              "      <td>Inverno</td>\n",
              "    </tr>\n",
              "    <tr>\n",
              "      <th>2</th>\n",
              "      <td>2001-01-03</td>\n",
              "      <td>3.6</td>\n",
              "      <td>7.2</td>\n",
              "      <td>1.2</td>\n",
              "      <td>Inverno</td>\n",
              "    </tr>\n",
              "    <tr>\n",
              "      <th>3</th>\n",
              "      <td>2001-01-04</td>\n",
              "      <td>1.8</td>\n",
              "      <td>4.2</td>\n",
              "      <td>0.6</td>\n",
              "      <td>Inverno</td>\n",
              "    </tr>\n",
              "    <tr>\n",
              "      <th>4</th>\n",
              "      <td>2001-01-07</td>\n",
              "      <td>5.8</td>\n",
              "      <td>8.6</td>\n",
              "      <td>3.0</td>\n",
              "      <td>Inverno</td>\n",
              "    </tr>\n",
              "  </tbody>\n",
              "</table>\n",
              "</div>\n",
              "    <div class=\"colab-df-buttons\">\n",
              "\n",
              "  <div class=\"colab-df-container\">\n",
              "    <button class=\"colab-df-convert\" onclick=\"convertToInteractive('df-8cd0e709-2150-4ab3-acf0-fa16b22ef268')\"\n",
              "            title=\"Convert this dataframe to an interactive table.\"\n",
              "            style=\"display:none;\">\n",
              "\n",
              "  <svg xmlns=\"http://www.w3.org/2000/svg\" height=\"24px\" viewBox=\"0 -960 960 960\">\n",
              "    <path d=\"M120-120v-720h720v720H120Zm60-500h600v-160H180v160Zm220 220h160v-160H400v160Zm0 220h160v-160H400v160ZM180-400h160v-160H180v160Zm440 0h160v-160H620v160ZM180-180h160v-160H180v160Zm440 0h160v-160H620v160Z\"/>\n",
              "  </svg>\n",
              "    </button>\n",
              "\n",
              "  <style>\n",
              "    .colab-df-container {\n",
              "      display:flex;\n",
              "      gap: 12px;\n",
              "    }\n",
              "\n",
              "    .colab-df-convert {\n",
              "      background-color: #E8F0FE;\n",
              "      border: none;\n",
              "      border-radius: 50%;\n",
              "      cursor: pointer;\n",
              "      display: none;\n",
              "      fill: #1967D2;\n",
              "      height: 32px;\n",
              "      padding: 0 0 0 0;\n",
              "      width: 32px;\n",
              "    }\n",
              "\n",
              "    .colab-df-convert:hover {\n",
              "      background-color: #E2EBFA;\n",
              "      box-shadow: 0px 1px 2px rgba(60, 64, 67, 0.3), 0px 1px 3px 1px rgba(60, 64, 67, 0.15);\n",
              "      fill: #174EA6;\n",
              "    }\n",
              "\n",
              "    .colab-df-buttons div {\n",
              "      margin-bottom: 4px;\n",
              "    }\n",
              "\n",
              "    [theme=dark] .colab-df-convert {\n",
              "      background-color: #3B4455;\n",
              "      fill: #D2E3FC;\n",
              "    }\n",
              "\n",
              "    [theme=dark] .colab-df-convert:hover {\n",
              "      background-color: #434B5C;\n",
              "      box-shadow: 0px 1px 3px 1px rgba(0, 0, 0, 0.15);\n",
              "      filter: drop-shadow(0px 1px 2px rgba(0, 0, 0, 0.3));\n",
              "      fill: #FFFFFF;\n",
              "    }\n",
              "  </style>\n",
              "\n",
              "    <script>\n",
              "      const buttonEl =\n",
              "        document.querySelector('#df-8cd0e709-2150-4ab3-acf0-fa16b22ef268 button.colab-df-convert');\n",
              "      buttonEl.style.display =\n",
              "        google.colab.kernel.accessAllowed ? 'block' : 'none';\n",
              "\n",
              "      async function convertToInteractive(key) {\n",
              "        const element = document.querySelector('#df-8cd0e709-2150-4ab3-acf0-fa16b22ef268');\n",
              "        const dataTable =\n",
              "          await google.colab.kernel.invokeFunction('convertToInteractive',\n",
              "                                                    [key], {});\n",
              "        if (!dataTable) return;\n",
              "\n",
              "        const docLinkHtml = 'Like what you see? Visit the ' +\n",
              "          '<a target=\"_blank\" href=https://colab.research.google.com/notebooks/data_table.ipynb>data table notebook</a>'\n",
              "          + ' to learn more about interactive tables.';\n",
              "        element.innerHTML = '';\n",
              "        dataTable['output_type'] = 'display_data';\n",
              "        await google.colab.output.renderOutput(dataTable, element);\n",
              "        const docLink = document.createElement('div');\n",
              "        docLink.innerHTML = docLinkHtml;\n",
              "        element.appendChild(docLink);\n",
              "      }\n",
              "    </script>\n",
              "  </div>\n",
              "\n",
              "\n",
              "    <div id=\"df-ecd05bb9-9648-4241-a45a-9ed69d8ad6a8\">\n",
              "      <button class=\"colab-df-quickchart\" onclick=\"quickchart('df-ecd05bb9-9648-4241-a45a-9ed69d8ad6a8')\"\n",
              "                title=\"Suggest charts\"\n",
              "                style=\"display:none;\">\n",
              "\n",
              "<svg xmlns=\"http://www.w3.org/2000/svg\" height=\"24px\"viewBox=\"0 0 24 24\"\n",
              "     width=\"24px\">\n",
              "    <g>\n",
              "        <path d=\"M19 3H5c-1.1 0-2 .9-2 2v14c0 1.1.9 2 2 2h14c1.1 0 2-.9 2-2V5c0-1.1-.9-2-2-2zM9 17H7v-7h2v7zm4 0h-2V7h2v10zm4 0h-2v-4h2v4z\"/>\n",
              "    </g>\n",
              "</svg>\n",
              "      </button>\n",
              "\n",
              "<style>\n",
              "  .colab-df-quickchart {\n",
              "      --bg-color: #E8F0FE;\n",
              "      --fill-color: #1967D2;\n",
              "      --hover-bg-color: #E2EBFA;\n",
              "      --hover-fill-color: #174EA6;\n",
              "      --disabled-fill-color: #AAA;\n",
              "      --disabled-bg-color: #DDD;\n",
              "  }\n",
              "\n",
              "  [theme=dark] .colab-df-quickchart {\n",
              "      --bg-color: #3B4455;\n",
              "      --fill-color: #D2E3FC;\n",
              "      --hover-bg-color: #434B5C;\n",
              "      --hover-fill-color: #FFFFFF;\n",
              "      --disabled-bg-color: #3B4455;\n",
              "      --disabled-fill-color: #666;\n",
              "  }\n",
              "\n",
              "  .colab-df-quickchart {\n",
              "    background-color: var(--bg-color);\n",
              "    border: none;\n",
              "    border-radius: 50%;\n",
              "    cursor: pointer;\n",
              "    display: none;\n",
              "    fill: var(--fill-color);\n",
              "    height: 32px;\n",
              "    padding: 0;\n",
              "    width: 32px;\n",
              "  }\n",
              "\n",
              "  .colab-df-quickchart:hover {\n",
              "    background-color: var(--hover-bg-color);\n",
              "    box-shadow: 0 1px 2px rgba(60, 64, 67, 0.3), 0 1px 3px 1px rgba(60, 64, 67, 0.15);\n",
              "    fill: var(--button-hover-fill-color);\n",
              "  }\n",
              "\n",
              "  .colab-df-quickchart-complete:disabled,\n",
              "  .colab-df-quickchart-complete:disabled:hover {\n",
              "    background-color: var(--disabled-bg-color);\n",
              "    fill: var(--disabled-fill-color);\n",
              "    box-shadow: none;\n",
              "  }\n",
              "\n",
              "  .colab-df-spinner {\n",
              "    border: 2px solid var(--fill-color);\n",
              "    border-color: transparent;\n",
              "    border-bottom-color: var(--fill-color);\n",
              "    animation:\n",
              "      spin 1s steps(1) infinite;\n",
              "  }\n",
              "\n",
              "  @keyframes spin {\n",
              "    0% {\n",
              "      border-color: transparent;\n",
              "      border-bottom-color: var(--fill-color);\n",
              "      border-left-color: var(--fill-color);\n",
              "    }\n",
              "    20% {\n",
              "      border-color: transparent;\n",
              "      border-left-color: var(--fill-color);\n",
              "      border-top-color: var(--fill-color);\n",
              "    }\n",
              "    30% {\n",
              "      border-color: transparent;\n",
              "      border-left-color: var(--fill-color);\n",
              "      border-top-color: var(--fill-color);\n",
              "      border-right-color: var(--fill-color);\n",
              "    }\n",
              "    40% {\n",
              "      border-color: transparent;\n",
              "      border-right-color: var(--fill-color);\n",
              "      border-top-color: var(--fill-color);\n",
              "    }\n",
              "    60% {\n",
              "      border-color: transparent;\n",
              "      border-right-color: var(--fill-color);\n",
              "    }\n",
              "    80% {\n",
              "      border-color: transparent;\n",
              "      border-right-color: var(--fill-color);\n",
              "      border-bottom-color: var(--fill-color);\n",
              "    }\n",
              "    90% {\n",
              "      border-color: transparent;\n",
              "      border-bottom-color: var(--fill-color);\n",
              "    }\n",
              "  }\n",
              "</style>\n",
              "\n",
              "      <script>\n",
              "        async function quickchart(key) {\n",
              "          const quickchartButtonEl =\n",
              "            document.querySelector('#' + key + ' button');\n",
              "          quickchartButtonEl.disabled = true;  // To prevent multiple clicks.\n",
              "          quickchartButtonEl.classList.add('colab-df-spinner');\n",
              "          try {\n",
              "            const charts = await google.colab.kernel.invokeFunction(\n",
              "                'suggestCharts', [key], {});\n",
              "          } catch (error) {\n",
              "            console.error('Error during call to suggestCharts:', error);\n",
              "          }\n",
              "          quickchartButtonEl.classList.remove('colab-df-spinner');\n",
              "          quickchartButtonEl.classList.add('colab-df-quickchart-complete');\n",
              "        }\n",
              "        (() => {\n",
              "          let quickchartButtonEl =\n",
              "            document.querySelector('#df-ecd05bb9-9648-4241-a45a-9ed69d8ad6a8 button');\n",
              "          quickchartButtonEl.style.display =\n",
              "            google.colab.kernel.accessAllowed ? 'block' : 'none';\n",
              "        })();\n",
              "      </script>\n",
              "    </div>\n",
              "\n",
              "    </div>\n",
              "  </div>\n"
            ],
            "application/vnd.google.colaboratory.intrinsic+json": {
              "type": "dataframe",
              "variable_name": "df_temp",
              "summary": "{\n  \"name\": \"df_temp\",\n  \"rows\": 8924,\n  \"fields\": [\n    {\n      \"column\": \"Data\",\n      \"properties\": {\n        \"dtype\": \"object\",\n        \"num_unique_values\": 8924,\n        \"samples\": [\n          \"2024-07-06\",\n          \"2012-03-23\",\n          \"2003-03-26\"\n        ],\n        \"semantic_type\": \"\",\n        \"description\": \"\"\n      }\n    },\n    {\n      \"column\": \"Temperatura media\",\n      \"properties\": {\n        \"dtype\": \"number\",\n        \"std\": 8.236196672553787,\n        \"min\": -7.6,\n        \"max\": 33.2,\n        \"num_unique_values\": 366,\n        \"samples\": [\n          25.3,\n          9.7,\n          6.0\n        ],\n        \"semantic_type\": \"\",\n        \"description\": \"\"\n      }\n    },\n    {\n      \"column\": \"Temperatura massima\",\n      \"properties\": {\n        \"dtype\": \"number\",\n        \"std\": 9.358815869201884,\n        \"min\": -4.6,\n        \"max\": 40.1,\n        \"num_unique_values\": 405,\n        \"samples\": [\n          30.2,\n          33.4,\n          0.8\n        ],\n        \"semantic_type\": \"\",\n        \"description\": \"\"\n      }\n    },\n    {\n      \"column\": \"Temperatura minima\",\n      \"properties\": {\n        \"dtype\": \"number\",\n        \"std\": 7.205657679939029,\n        \"min\": -11.1,\n        \"max\": 26.3,\n        \"num_unique_values\": 332,\n        \"samples\": [\n          0.7,\n          24.2,\n          21.9\n        ],\n        \"semantic_type\": \"\",\n        \"description\": \"\"\n      }\n    },\n    {\n      \"column\": \"Stagione\",\n      \"properties\": {\n        \"dtype\": \"category\",\n        \"num_unique_values\": 4,\n        \"samples\": [\n          \"Primavera\",\n          \"Autunno\",\n          \"Inverno\"\n        ],\n        \"semantic_type\": \"\",\n        \"description\": \"\"\n      }\n    }\n  ]\n}"
            }
          },
          "metadata": {},
          "execution_count": 2
        }
      ]
    },
    {
      "cell_type": "code",
      "source": [
        "df_temp.info()"
      ],
      "metadata": {
        "colab": {
          "base_uri": "https://localhost:8080/"
        },
        "id": "U-l6EH9h0jN_",
        "outputId": "cc928b67-6697-40a6-c0ec-44eeb39542ac"
      },
      "execution_count": 3,
      "outputs": [
        {
          "output_type": "stream",
          "name": "stdout",
          "text": [
            "<class 'pandas.core.frame.DataFrame'>\n",
            "RangeIndex: 8924 entries, 0 to 8923\n",
            "Data columns (total 5 columns):\n",
            " #   Column               Non-Null Count  Dtype  \n",
            "---  ------               --------------  -----  \n",
            " 0   Data                 8924 non-null   object \n",
            " 1   Temperatura media    8924 non-null   float64\n",
            " 2   Temperatura massima  8924 non-null   float64\n",
            " 3   Temperatura minima   8924 non-null   float64\n",
            " 4   Stagione             8924 non-null   object \n",
            "dtypes: float64(3), object(2)\n",
            "memory usage: 348.7+ KB\n"
          ]
        }
      ]
    },
    {
      "cell_type": "markdown",
      "source": [
        "df_temp è composto da 8924 dati e da 5 variabili.\n",
        "- In questo dataset tutte le variabili ci serviranno per la realizzazione del nostro progetto.\n",
        "- le variabili \"Temperatura media\", \"Temperatura massima\", \"Temperatura minima\" e \"Stagione\" definiscono le caratteristiche della temperatura in un particolare giorno rappresentato da \"Data\".\n",
        "- le variabili \"Data\" e \"Stagione\" dovranno essere convertite rispettivamente in datetyme e valore numerico per semplificare le analisi."
      ],
      "metadata": {
        "id": "HSmGN1fJO6OL"
      }
    },
    {
      "cell_type": "markdown",
      "source": [
        "# df_demo: Analisi"
      ],
      "metadata": {
        "id": "6oA4de6-c8KE"
      }
    },
    {
      "cell_type": "markdown",
      "source": [
        "Vediamo com'è strutturato il dataset."
      ],
      "metadata": {
        "id": "d-7ChfmyANaJ"
      }
    },
    {
      "cell_type": "code",
      "source": [
        "df_demo.head()"
      ],
      "metadata": {
        "id": "95gRzZmXfCCh",
        "colab": {
          "base_uri": "https://localhost:8080/",
          "height": 206
        },
        "outputId": "544a87c4-9070-4b37-d5b4-2b73a409afa2"
      },
      "execution_count": 4,
      "outputs": [
        {
          "output_type": "execute_result",
          "data": {
            "text/plain": [
              "  Frequenza Territorio                 Indicatore   Sesso     Età  \\\n",
              "0   Annuale    Bologna  Popolazione al 1º gennaio  Totale  0 anni   \n",
              "1   Annuale    Bologna  Popolazione al 1º gennaio  Totale  0 anni   \n",
              "2   Annuale    Bologna  Popolazione al 1º gennaio  Totale  0 anni   \n",
              "3   Annuale    Bologna  Popolazione al 1º gennaio  Totale  0 anni   \n",
              "4   Annuale    Bologna  Popolazione al 1º gennaio  Totale  0 anni   \n",
              "\n",
              "  Stato civile  TIME_PERIOD  Osservazione 'Stato dell\"'osservazione'  \n",
              "0       Totale         2019          7526                        NaN  \n",
              "1       Totale         2020          7165                        NaN  \n",
              "2       Totale         2021          6962                        NaN  \n",
              "3       Totale         2022          6971                        NaN  \n",
              "4       Totale         2023          6856                        NaN  "
            ],
            "text/html": [
              "\n",
              "  <div id=\"df-2fe5f4a1-eb33-45c1-8ba7-ae8c4e0520cf\" class=\"colab-df-container\">\n",
              "    <div>\n",
              "<style scoped>\n",
              "    .dataframe tbody tr th:only-of-type {\n",
              "        vertical-align: middle;\n",
              "    }\n",
              "\n",
              "    .dataframe tbody tr th {\n",
              "        vertical-align: top;\n",
              "    }\n",
              "\n",
              "    .dataframe thead th {\n",
              "        text-align: right;\n",
              "    }\n",
              "</style>\n",
              "<table border=\"1\" class=\"dataframe\">\n",
              "  <thead>\n",
              "    <tr style=\"text-align: right;\">\n",
              "      <th></th>\n",
              "      <th>Frequenza</th>\n",
              "      <th>Territorio</th>\n",
              "      <th>Indicatore</th>\n",
              "      <th>Sesso</th>\n",
              "      <th>Età</th>\n",
              "      <th>Stato civile</th>\n",
              "      <th>TIME_PERIOD</th>\n",
              "      <th>Osservazione</th>\n",
              "      <th>'Stato dell\"'osservazione'</th>\n",
              "    </tr>\n",
              "  </thead>\n",
              "  <tbody>\n",
              "    <tr>\n",
              "      <th>0</th>\n",
              "      <td>Annuale</td>\n",
              "      <td>Bologna</td>\n",
              "      <td>Popolazione al 1º gennaio</td>\n",
              "      <td>Totale</td>\n",
              "      <td>0 anni</td>\n",
              "      <td>Totale</td>\n",
              "      <td>2019</td>\n",
              "      <td>7526</td>\n",
              "      <td>NaN</td>\n",
              "    </tr>\n",
              "    <tr>\n",
              "      <th>1</th>\n",
              "      <td>Annuale</td>\n",
              "      <td>Bologna</td>\n",
              "      <td>Popolazione al 1º gennaio</td>\n",
              "      <td>Totale</td>\n",
              "      <td>0 anni</td>\n",
              "      <td>Totale</td>\n",
              "      <td>2020</td>\n",
              "      <td>7165</td>\n",
              "      <td>NaN</td>\n",
              "    </tr>\n",
              "    <tr>\n",
              "      <th>2</th>\n",
              "      <td>Annuale</td>\n",
              "      <td>Bologna</td>\n",
              "      <td>Popolazione al 1º gennaio</td>\n",
              "      <td>Totale</td>\n",
              "      <td>0 anni</td>\n",
              "      <td>Totale</td>\n",
              "      <td>2021</td>\n",
              "      <td>6962</td>\n",
              "      <td>NaN</td>\n",
              "    </tr>\n",
              "    <tr>\n",
              "      <th>3</th>\n",
              "      <td>Annuale</td>\n",
              "      <td>Bologna</td>\n",
              "      <td>Popolazione al 1º gennaio</td>\n",
              "      <td>Totale</td>\n",
              "      <td>0 anni</td>\n",
              "      <td>Totale</td>\n",
              "      <td>2022</td>\n",
              "      <td>6971</td>\n",
              "      <td>NaN</td>\n",
              "    </tr>\n",
              "    <tr>\n",
              "      <th>4</th>\n",
              "      <td>Annuale</td>\n",
              "      <td>Bologna</td>\n",
              "      <td>Popolazione al 1º gennaio</td>\n",
              "      <td>Totale</td>\n",
              "      <td>0 anni</td>\n",
              "      <td>Totale</td>\n",
              "      <td>2023</td>\n",
              "      <td>6856</td>\n",
              "      <td>NaN</td>\n",
              "    </tr>\n",
              "  </tbody>\n",
              "</table>\n",
              "</div>\n",
              "    <div class=\"colab-df-buttons\">\n",
              "\n",
              "  <div class=\"colab-df-container\">\n",
              "    <button class=\"colab-df-convert\" onclick=\"convertToInteractive('df-2fe5f4a1-eb33-45c1-8ba7-ae8c4e0520cf')\"\n",
              "            title=\"Convert this dataframe to an interactive table.\"\n",
              "            style=\"display:none;\">\n",
              "\n",
              "  <svg xmlns=\"http://www.w3.org/2000/svg\" height=\"24px\" viewBox=\"0 -960 960 960\">\n",
              "    <path d=\"M120-120v-720h720v720H120Zm60-500h600v-160H180v160Zm220 220h160v-160H400v160Zm0 220h160v-160H400v160ZM180-400h160v-160H180v160Zm440 0h160v-160H620v160ZM180-180h160v-160H180v160Zm440 0h160v-160H620v160Z\"/>\n",
              "  </svg>\n",
              "    </button>\n",
              "\n",
              "  <style>\n",
              "    .colab-df-container {\n",
              "      display:flex;\n",
              "      gap: 12px;\n",
              "    }\n",
              "\n",
              "    .colab-df-convert {\n",
              "      background-color: #E8F0FE;\n",
              "      border: none;\n",
              "      border-radius: 50%;\n",
              "      cursor: pointer;\n",
              "      display: none;\n",
              "      fill: #1967D2;\n",
              "      height: 32px;\n",
              "      padding: 0 0 0 0;\n",
              "      width: 32px;\n",
              "    }\n",
              "\n",
              "    .colab-df-convert:hover {\n",
              "      background-color: #E2EBFA;\n",
              "      box-shadow: 0px 1px 2px rgba(60, 64, 67, 0.3), 0px 1px 3px 1px rgba(60, 64, 67, 0.15);\n",
              "      fill: #174EA6;\n",
              "    }\n",
              "\n",
              "    .colab-df-buttons div {\n",
              "      margin-bottom: 4px;\n",
              "    }\n",
              "\n",
              "    [theme=dark] .colab-df-convert {\n",
              "      background-color: #3B4455;\n",
              "      fill: #D2E3FC;\n",
              "    }\n",
              "\n",
              "    [theme=dark] .colab-df-convert:hover {\n",
              "      background-color: #434B5C;\n",
              "      box-shadow: 0px 1px 3px 1px rgba(0, 0, 0, 0.15);\n",
              "      filter: drop-shadow(0px 1px 2px rgba(0, 0, 0, 0.3));\n",
              "      fill: #FFFFFF;\n",
              "    }\n",
              "  </style>\n",
              "\n",
              "    <script>\n",
              "      const buttonEl =\n",
              "        document.querySelector('#df-2fe5f4a1-eb33-45c1-8ba7-ae8c4e0520cf button.colab-df-convert');\n",
              "      buttonEl.style.display =\n",
              "        google.colab.kernel.accessAllowed ? 'block' : 'none';\n",
              "\n",
              "      async function convertToInteractive(key) {\n",
              "        const element = document.querySelector('#df-2fe5f4a1-eb33-45c1-8ba7-ae8c4e0520cf');\n",
              "        const dataTable =\n",
              "          await google.colab.kernel.invokeFunction('convertToInteractive',\n",
              "                                                    [key], {});\n",
              "        if (!dataTable) return;\n",
              "\n",
              "        const docLinkHtml = 'Like what you see? Visit the ' +\n",
              "          '<a target=\"_blank\" href=https://colab.research.google.com/notebooks/data_table.ipynb>data table notebook</a>'\n",
              "          + ' to learn more about interactive tables.';\n",
              "        element.innerHTML = '';\n",
              "        dataTable['output_type'] = 'display_data';\n",
              "        await google.colab.output.renderOutput(dataTable, element);\n",
              "        const docLink = document.createElement('div');\n",
              "        docLink.innerHTML = docLinkHtml;\n",
              "        element.appendChild(docLink);\n",
              "      }\n",
              "    </script>\n",
              "  </div>\n",
              "\n",
              "\n",
              "    <div id=\"df-a376563d-b905-4598-b379-7875b5a46129\">\n",
              "      <button class=\"colab-df-quickchart\" onclick=\"quickchart('df-a376563d-b905-4598-b379-7875b5a46129')\"\n",
              "                title=\"Suggest charts\"\n",
              "                style=\"display:none;\">\n",
              "\n",
              "<svg xmlns=\"http://www.w3.org/2000/svg\" height=\"24px\"viewBox=\"0 0 24 24\"\n",
              "     width=\"24px\">\n",
              "    <g>\n",
              "        <path d=\"M19 3H5c-1.1 0-2 .9-2 2v14c0 1.1.9 2 2 2h14c1.1 0 2-.9 2-2V5c0-1.1-.9-2-2-2zM9 17H7v-7h2v7zm4 0h-2V7h2v10zm4 0h-2v-4h2v4z\"/>\n",
              "    </g>\n",
              "</svg>\n",
              "      </button>\n",
              "\n",
              "<style>\n",
              "  .colab-df-quickchart {\n",
              "      --bg-color: #E8F0FE;\n",
              "      --fill-color: #1967D2;\n",
              "      --hover-bg-color: #E2EBFA;\n",
              "      --hover-fill-color: #174EA6;\n",
              "      --disabled-fill-color: #AAA;\n",
              "      --disabled-bg-color: #DDD;\n",
              "  }\n",
              "\n",
              "  [theme=dark] .colab-df-quickchart {\n",
              "      --bg-color: #3B4455;\n",
              "      --fill-color: #D2E3FC;\n",
              "      --hover-bg-color: #434B5C;\n",
              "      --hover-fill-color: #FFFFFF;\n",
              "      --disabled-bg-color: #3B4455;\n",
              "      --disabled-fill-color: #666;\n",
              "  }\n",
              "\n",
              "  .colab-df-quickchart {\n",
              "    background-color: var(--bg-color);\n",
              "    border: none;\n",
              "    border-radius: 50%;\n",
              "    cursor: pointer;\n",
              "    display: none;\n",
              "    fill: var(--fill-color);\n",
              "    height: 32px;\n",
              "    padding: 0;\n",
              "    width: 32px;\n",
              "  }\n",
              "\n",
              "  .colab-df-quickchart:hover {\n",
              "    background-color: var(--hover-bg-color);\n",
              "    box-shadow: 0 1px 2px rgba(60, 64, 67, 0.3), 0 1px 3px 1px rgba(60, 64, 67, 0.15);\n",
              "    fill: var(--button-hover-fill-color);\n",
              "  }\n",
              "\n",
              "  .colab-df-quickchart-complete:disabled,\n",
              "  .colab-df-quickchart-complete:disabled:hover {\n",
              "    background-color: var(--disabled-bg-color);\n",
              "    fill: var(--disabled-fill-color);\n",
              "    box-shadow: none;\n",
              "  }\n",
              "\n",
              "  .colab-df-spinner {\n",
              "    border: 2px solid var(--fill-color);\n",
              "    border-color: transparent;\n",
              "    border-bottom-color: var(--fill-color);\n",
              "    animation:\n",
              "      spin 1s steps(1) infinite;\n",
              "  }\n",
              "\n",
              "  @keyframes spin {\n",
              "    0% {\n",
              "      border-color: transparent;\n",
              "      border-bottom-color: var(--fill-color);\n",
              "      border-left-color: var(--fill-color);\n",
              "    }\n",
              "    20% {\n",
              "      border-color: transparent;\n",
              "      border-left-color: var(--fill-color);\n",
              "      border-top-color: var(--fill-color);\n",
              "    }\n",
              "    30% {\n",
              "      border-color: transparent;\n",
              "      border-left-color: var(--fill-color);\n",
              "      border-top-color: var(--fill-color);\n",
              "      border-right-color: var(--fill-color);\n",
              "    }\n",
              "    40% {\n",
              "      border-color: transparent;\n",
              "      border-right-color: var(--fill-color);\n",
              "      border-top-color: var(--fill-color);\n",
              "    }\n",
              "    60% {\n",
              "      border-color: transparent;\n",
              "      border-right-color: var(--fill-color);\n",
              "    }\n",
              "    80% {\n",
              "      border-color: transparent;\n",
              "      border-right-color: var(--fill-color);\n",
              "      border-bottom-color: var(--fill-color);\n",
              "    }\n",
              "    90% {\n",
              "      border-color: transparent;\n",
              "      border-bottom-color: var(--fill-color);\n",
              "    }\n",
              "  }\n",
              "</style>\n",
              "\n",
              "      <script>\n",
              "        async function quickchart(key) {\n",
              "          const quickchartButtonEl =\n",
              "            document.querySelector('#' + key + ' button');\n",
              "          quickchartButtonEl.disabled = true;  // To prevent multiple clicks.\n",
              "          quickchartButtonEl.classList.add('colab-df-spinner');\n",
              "          try {\n",
              "            const charts = await google.colab.kernel.invokeFunction(\n",
              "                'suggestCharts', [key], {});\n",
              "          } catch (error) {\n",
              "            console.error('Error during call to suggestCharts:', error);\n",
              "          }\n",
              "          quickchartButtonEl.classList.remove('colab-df-spinner');\n",
              "          quickchartButtonEl.classList.add('colab-df-quickchart-complete');\n",
              "        }\n",
              "        (() => {\n",
              "          let quickchartButtonEl =\n",
              "            document.querySelector('#df-a376563d-b905-4598-b379-7875b5a46129 button');\n",
              "          quickchartButtonEl.style.display =\n",
              "            google.colab.kernel.accessAllowed ? 'block' : 'none';\n",
              "        })();\n",
              "      </script>\n",
              "    </div>\n",
              "\n",
              "    </div>\n",
              "  </div>\n"
            ],
            "application/vnd.google.colaboratory.intrinsic+json": {
              "type": "dataframe",
              "variable_name": "df_demo",
              "summary": "{\n  \"name\": \"df_demo\",\n  \"rows\": 714,\n  \"fields\": [\n    {\n      \"column\": \"Frequenza\",\n      \"properties\": {\n        \"dtype\": \"category\",\n        \"num_unique_values\": 1,\n        \"samples\": [\n          \"Annuale\"\n        ],\n        \"semantic_type\": \"\",\n        \"description\": \"\"\n      }\n    },\n    {\n      \"column\": \"Territorio\",\n      \"properties\": {\n        \"dtype\": \"category\",\n        \"num_unique_values\": 1,\n        \"samples\": [\n          \"Bologna\"\n        ],\n        \"semantic_type\": \"\",\n        \"description\": \"\"\n      }\n    },\n    {\n      \"column\": \"Indicatore\",\n      \"properties\": {\n        \"dtype\": \"category\",\n        \"num_unique_values\": 1,\n        \"samples\": [\n          \"Popolazione al 1\\u00ba gennaio\"\n        ],\n        \"semantic_type\": \"\",\n        \"description\": \"\"\n      }\n    },\n    {\n      \"column\": \"Sesso\",\n      \"properties\": {\n        \"dtype\": \"category\",\n        \"num_unique_values\": 1,\n        \"samples\": [\n          \"Totale\"\n        ],\n        \"semantic_type\": \"\",\n        \"description\": \"\"\n      }\n    },\n    {\n      \"column\": \"Et\\u00e0\",\n      \"properties\": {\n        \"dtype\": \"category\",\n        \"num_unique_values\": 102,\n        \"samples\": [\n          \"30 anni\"\n        ],\n        \"semantic_type\": \"\",\n        \"description\": \"\"\n      }\n    },\n    {\n      \"column\": \"Stato civile\",\n      \"properties\": {\n        \"dtype\": \"category\",\n        \"num_unique_values\": 1,\n        \"samples\": [\n          \"Totale\"\n        ],\n        \"semantic_type\": \"\",\n        \"description\": \"\"\n      }\n    },\n    {\n      \"column\": \"TIME_PERIOD\",\n      \"properties\": {\n        \"dtype\": \"number\",\n        \"std\": 2,\n        \"min\": 2019,\n        \"max\": 2025,\n        \"num_unique_values\": 7,\n        \"samples\": [\n          2019\n        ],\n        \"semantic_type\": \"\",\n        \"description\": \"\"\n      }\n    },\n    {\n      \"column\": \"Osservazione\",\n      \"properties\": {\n        \"dtype\": \"number\",\n        \"std\": 99355,\n        \"min\": 253,\n        \"max\": 1021501,\n        \"num_unique_values\": 691,\n        \"samples\": [\n          16825\n        ],\n        \"semantic_type\": \"\",\n        \"description\": \"\"\n      }\n    },\n    {\n      \"column\": \"'Stato dell\\\"'osservazione'\",\n      \"properties\": {\n        \"dtype\": \"category\",\n        \"num_unique_values\": 1,\n        \"samples\": [\n          \"Dato stimato\"\n        ],\n        \"semantic_type\": \"\",\n        \"description\": \"\"\n      }\n    }\n  ]\n}"
            }
          },
          "metadata": {},
          "execution_count": 4
        }
      ]
    },
    {
      "cell_type": "code",
      "source": [
        "df_demo.info()"
      ],
      "metadata": {
        "id": "egQbekmsfJV1",
        "colab": {
          "base_uri": "https://localhost:8080/"
        },
        "outputId": "a3c67b4d-00b7-4016-ff53-0262f7f67073"
      },
      "execution_count": 5,
      "outputs": [
        {
          "output_type": "stream",
          "name": "stdout",
          "text": [
            "<class 'pandas.core.frame.DataFrame'>\n",
            "RangeIndex: 714 entries, 0 to 713\n",
            "Data columns (total 9 columns):\n",
            " #   Column                      Non-Null Count  Dtype \n",
            "---  ------                      --------------  ----- \n",
            " 0   Frequenza                   714 non-null    object\n",
            " 1   Territorio                  714 non-null    object\n",
            " 2   Indicatore                  714 non-null    object\n",
            " 3   Sesso                       714 non-null    object\n",
            " 4   Età                         714 non-null    object\n",
            " 5   Stato civile                714 non-null    object\n",
            " 6   TIME_PERIOD                 714 non-null    int64 \n",
            " 7   Osservazione                714 non-null    int64 \n",
            " 8   'Stato dell\"'osservazione'  102 non-null    object\n",
            "dtypes: int64(2), object(7)\n",
            "memory usage: 50.3+ KB\n"
          ]
        }
      ]
    },
    {
      "cell_type": "markdown",
      "source": [
        "df_demo è composto da 714 dati e 9 variabili.\n",
        "- In questo dataset non ci serviranno le sequenti variabili:\n",
        "-- Territorio: il nostro progetto è gia circoscritto alla città di Bologna.\n",
        "-- Indicatore: Consideriamo già a priori la popolazione a partire dal primo gennaio.\n",
        "-- Sesso: non è una variabile rilevante per distinguere le categorie di persone sensibili.\n",
        "-- Frequenza: Consideriamo a priori che i dati demografici sono annuali.\n",
        "-- Stato civile: non è una variabile rilevante per distinguere le categorie di persone sensibili\n",
        "- Queste sono le variabili che ci servono:\n",
        "-- Età: ci permette di suddividere la popolazione in over65 e under5.\n",
        "-- Period: ci permette di identificare l'anno di riferimento.\n",
        "-- Osservazione: ci permette di quantificare la popolazione totale.\n",
        "-- Stato dell'osservazione: definisce che l'osservazione è un dato stimato."
      ],
      "metadata": {
        "id": "hZuKzb2vfsfx"
      }
    },
    {
      "cell_type": "markdown",
      "source": [
        "# df_death: Analisi"
      ],
      "metadata": {
        "id": "f_icJA874bBO"
      }
    },
    {
      "cell_type": "markdown",
      "source": [
        "Vediamo com'è strutturato il dataset."
      ],
      "metadata": {
        "id": "y0usQSGtAThF"
      }
    },
    {
      "cell_type": "code",
      "source": [
        "df_death.head()"
      ],
      "metadata": {
        "id": "23TUm3_94kOV",
        "colab": {
          "base_uri": "https://localhost:8080/",
          "height": 206
        },
        "outputId": "d2431b9a-8783-459c-fc49-2d90fc5c0e6f"
      },
      "execution_count": 6,
      "outputs": [
        {
          "output_type": "execute_result",
          "data": {
            "text/plain": [
              "     country Code  Year  Extreme cold  Moderate cold  Moderate heat  \\\n",
              "0  Australia  AUS  2015          0.67           5.82           0.14   \n",
              "1     Brazil  BRA  2015          0.49           2.34           0.48   \n",
              "2     Canada  CAN  2015          0.25           4.21           0.27   \n",
              "3      China  CHN  2015          1.06           9.31           0.24   \n",
              "4      Italy  ITA  2015          0.85           8.51           0.94   \n",
              "\n",
              "   Extreme heat  \n",
              "0          0.32  \n",
              "1          0.22  \n",
              "2          0.26  \n",
              "3          0.40  \n",
              "4          0.67  "
            ],
            "text/html": [
              "\n",
              "  <div id=\"df-85c3ccaa-af5b-4881-9d6e-54eebd611ef9\" class=\"colab-df-container\">\n",
              "    <div>\n",
              "<style scoped>\n",
              "    .dataframe tbody tr th:only-of-type {\n",
              "        vertical-align: middle;\n",
              "    }\n",
              "\n",
              "    .dataframe tbody tr th {\n",
              "        vertical-align: top;\n",
              "    }\n",
              "\n",
              "    .dataframe thead th {\n",
              "        text-align: right;\n",
              "    }\n",
              "</style>\n",
              "<table border=\"1\" class=\"dataframe\">\n",
              "  <thead>\n",
              "    <tr style=\"text-align: right;\">\n",
              "      <th></th>\n",
              "      <th>country</th>\n",
              "      <th>Code</th>\n",
              "      <th>Year</th>\n",
              "      <th>Extreme cold</th>\n",
              "      <th>Moderate cold</th>\n",
              "      <th>Moderate heat</th>\n",
              "      <th>Extreme heat</th>\n",
              "    </tr>\n",
              "  </thead>\n",
              "  <tbody>\n",
              "    <tr>\n",
              "      <th>0</th>\n",
              "      <td>Australia</td>\n",
              "      <td>AUS</td>\n",
              "      <td>2015</td>\n",
              "      <td>0.67</td>\n",
              "      <td>5.82</td>\n",
              "      <td>0.14</td>\n",
              "      <td>0.32</td>\n",
              "    </tr>\n",
              "    <tr>\n",
              "      <th>1</th>\n",
              "      <td>Brazil</td>\n",
              "      <td>BRA</td>\n",
              "      <td>2015</td>\n",
              "      <td>0.49</td>\n",
              "      <td>2.34</td>\n",
              "      <td>0.48</td>\n",
              "      <td>0.22</td>\n",
              "    </tr>\n",
              "    <tr>\n",
              "      <th>2</th>\n",
              "      <td>Canada</td>\n",
              "      <td>CAN</td>\n",
              "      <td>2015</td>\n",
              "      <td>0.25</td>\n",
              "      <td>4.21</td>\n",
              "      <td>0.27</td>\n",
              "      <td>0.26</td>\n",
              "    </tr>\n",
              "    <tr>\n",
              "      <th>3</th>\n",
              "      <td>China</td>\n",
              "      <td>CHN</td>\n",
              "      <td>2015</td>\n",
              "      <td>1.06</td>\n",
              "      <td>9.31</td>\n",
              "      <td>0.24</td>\n",
              "      <td>0.40</td>\n",
              "    </tr>\n",
              "    <tr>\n",
              "      <th>4</th>\n",
              "      <td>Italy</td>\n",
              "      <td>ITA</td>\n",
              "      <td>2015</td>\n",
              "      <td>0.85</td>\n",
              "      <td>8.51</td>\n",
              "      <td>0.94</td>\n",
              "      <td>0.67</td>\n",
              "    </tr>\n",
              "  </tbody>\n",
              "</table>\n",
              "</div>\n",
              "    <div class=\"colab-df-buttons\">\n",
              "\n",
              "  <div class=\"colab-df-container\">\n",
              "    <button class=\"colab-df-convert\" onclick=\"convertToInteractive('df-85c3ccaa-af5b-4881-9d6e-54eebd611ef9')\"\n",
              "            title=\"Convert this dataframe to an interactive table.\"\n",
              "            style=\"display:none;\">\n",
              "\n",
              "  <svg xmlns=\"http://www.w3.org/2000/svg\" height=\"24px\" viewBox=\"0 -960 960 960\">\n",
              "    <path d=\"M120-120v-720h720v720H120Zm60-500h600v-160H180v160Zm220 220h160v-160H400v160Zm0 220h160v-160H400v160ZM180-400h160v-160H180v160Zm440 0h160v-160H620v160ZM180-180h160v-160H180v160Zm440 0h160v-160H620v160Z\"/>\n",
              "  </svg>\n",
              "    </button>\n",
              "\n",
              "  <style>\n",
              "    .colab-df-container {\n",
              "      display:flex;\n",
              "      gap: 12px;\n",
              "    }\n",
              "\n",
              "    .colab-df-convert {\n",
              "      background-color: #E8F0FE;\n",
              "      border: none;\n",
              "      border-radius: 50%;\n",
              "      cursor: pointer;\n",
              "      display: none;\n",
              "      fill: #1967D2;\n",
              "      height: 32px;\n",
              "      padding: 0 0 0 0;\n",
              "      width: 32px;\n",
              "    }\n",
              "\n",
              "    .colab-df-convert:hover {\n",
              "      background-color: #E2EBFA;\n",
              "      box-shadow: 0px 1px 2px rgba(60, 64, 67, 0.3), 0px 1px 3px 1px rgba(60, 64, 67, 0.15);\n",
              "      fill: #174EA6;\n",
              "    }\n",
              "\n",
              "    .colab-df-buttons div {\n",
              "      margin-bottom: 4px;\n",
              "    }\n",
              "\n",
              "    [theme=dark] .colab-df-convert {\n",
              "      background-color: #3B4455;\n",
              "      fill: #D2E3FC;\n",
              "    }\n",
              "\n",
              "    [theme=dark] .colab-df-convert:hover {\n",
              "      background-color: #434B5C;\n",
              "      box-shadow: 0px 1px 3px 1px rgba(0, 0, 0, 0.15);\n",
              "      filter: drop-shadow(0px 1px 2px rgba(0, 0, 0, 0.3));\n",
              "      fill: #FFFFFF;\n",
              "    }\n",
              "  </style>\n",
              "\n",
              "    <script>\n",
              "      const buttonEl =\n",
              "        document.querySelector('#df-85c3ccaa-af5b-4881-9d6e-54eebd611ef9 button.colab-df-convert');\n",
              "      buttonEl.style.display =\n",
              "        google.colab.kernel.accessAllowed ? 'block' : 'none';\n",
              "\n",
              "      async function convertToInteractive(key) {\n",
              "        const element = document.querySelector('#df-85c3ccaa-af5b-4881-9d6e-54eebd611ef9');\n",
              "        const dataTable =\n",
              "          await google.colab.kernel.invokeFunction('convertToInteractive',\n",
              "                                                    [key], {});\n",
              "        if (!dataTable) return;\n",
              "\n",
              "        const docLinkHtml = 'Like what you see? Visit the ' +\n",
              "          '<a target=\"_blank\" href=https://colab.research.google.com/notebooks/data_table.ipynb>data table notebook</a>'\n",
              "          + ' to learn more about interactive tables.';\n",
              "        element.innerHTML = '';\n",
              "        dataTable['output_type'] = 'display_data';\n",
              "        await google.colab.output.renderOutput(dataTable, element);\n",
              "        const docLink = document.createElement('div');\n",
              "        docLink.innerHTML = docLinkHtml;\n",
              "        element.appendChild(docLink);\n",
              "      }\n",
              "    </script>\n",
              "  </div>\n",
              "\n",
              "\n",
              "    <div id=\"df-e7dbcb12-28aa-4b33-98e7-b43b90057a4d\">\n",
              "      <button class=\"colab-df-quickchart\" onclick=\"quickchart('df-e7dbcb12-28aa-4b33-98e7-b43b90057a4d')\"\n",
              "                title=\"Suggest charts\"\n",
              "                style=\"display:none;\">\n",
              "\n",
              "<svg xmlns=\"http://www.w3.org/2000/svg\" height=\"24px\"viewBox=\"0 0 24 24\"\n",
              "     width=\"24px\">\n",
              "    <g>\n",
              "        <path d=\"M19 3H5c-1.1 0-2 .9-2 2v14c0 1.1.9 2 2 2h14c1.1 0 2-.9 2-2V5c0-1.1-.9-2-2-2zM9 17H7v-7h2v7zm4 0h-2V7h2v10zm4 0h-2v-4h2v4z\"/>\n",
              "    </g>\n",
              "</svg>\n",
              "      </button>\n",
              "\n",
              "<style>\n",
              "  .colab-df-quickchart {\n",
              "      --bg-color: #E8F0FE;\n",
              "      --fill-color: #1967D2;\n",
              "      --hover-bg-color: #E2EBFA;\n",
              "      --hover-fill-color: #174EA6;\n",
              "      --disabled-fill-color: #AAA;\n",
              "      --disabled-bg-color: #DDD;\n",
              "  }\n",
              "\n",
              "  [theme=dark] .colab-df-quickchart {\n",
              "      --bg-color: #3B4455;\n",
              "      --fill-color: #D2E3FC;\n",
              "      --hover-bg-color: #434B5C;\n",
              "      --hover-fill-color: #FFFFFF;\n",
              "      --disabled-bg-color: #3B4455;\n",
              "      --disabled-fill-color: #666;\n",
              "  }\n",
              "\n",
              "  .colab-df-quickchart {\n",
              "    background-color: var(--bg-color);\n",
              "    border: none;\n",
              "    border-radius: 50%;\n",
              "    cursor: pointer;\n",
              "    display: none;\n",
              "    fill: var(--fill-color);\n",
              "    height: 32px;\n",
              "    padding: 0;\n",
              "    width: 32px;\n",
              "  }\n",
              "\n",
              "  .colab-df-quickchart:hover {\n",
              "    background-color: var(--hover-bg-color);\n",
              "    box-shadow: 0 1px 2px rgba(60, 64, 67, 0.3), 0 1px 3px 1px rgba(60, 64, 67, 0.15);\n",
              "    fill: var(--button-hover-fill-color);\n",
              "  }\n",
              "\n",
              "  .colab-df-quickchart-complete:disabled,\n",
              "  .colab-df-quickchart-complete:disabled:hover {\n",
              "    background-color: var(--disabled-bg-color);\n",
              "    fill: var(--disabled-fill-color);\n",
              "    box-shadow: none;\n",
              "  }\n",
              "\n",
              "  .colab-df-spinner {\n",
              "    border: 2px solid var(--fill-color);\n",
              "    border-color: transparent;\n",
              "    border-bottom-color: var(--fill-color);\n",
              "    animation:\n",
              "      spin 1s steps(1) infinite;\n",
              "  }\n",
              "\n",
              "  @keyframes spin {\n",
              "    0% {\n",
              "      border-color: transparent;\n",
              "      border-bottom-color: var(--fill-color);\n",
              "      border-left-color: var(--fill-color);\n",
              "    }\n",
              "    20% {\n",
              "      border-color: transparent;\n",
              "      border-left-color: var(--fill-color);\n",
              "      border-top-color: var(--fill-color);\n",
              "    }\n",
              "    30% {\n",
              "      border-color: transparent;\n",
              "      border-left-color: var(--fill-color);\n",
              "      border-top-color: var(--fill-color);\n",
              "      border-right-color: var(--fill-color);\n",
              "    }\n",
              "    40% {\n",
              "      border-color: transparent;\n",
              "      border-right-color: var(--fill-color);\n",
              "      border-top-color: var(--fill-color);\n",
              "    }\n",
              "    60% {\n",
              "      border-color: transparent;\n",
              "      border-right-color: var(--fill-color);\n",
              "    }\n",
              "    80% {\n",
              "      border-color: transparent;\n",
              "      border-right-color: var(--fill-color);\n",
              "      border-bottom-color: var(--fill-color);\n",
              "    }\n",
              "    90% {\n",
              "      border-color: transparent;\n",
              "      border-bottom-color: var(--fill-color);\n",
              "    }\n",
              "  }\n",
              "</style>\n",
              "\n",
              "      <script>\n",
              "        async function quickchart(key) {\n",
              "          const quickchartButtonEl =\n",
              "            document.querySelector('#' + key + ' button');\n",
              "          quickchartButtonEl.disabled = true;  // To prevent multiple clicks.\n",
              "          quickchartButtonEl.classList.add('colab-df-spinner');\n",
              "          try {\n",
              "            const charts = await google.colab.kernel.invokeFunction(\n",
              "                'suggestCharts', [key], {});\n",
              "          } catch (error) {\n",
              "            console.error('Error during call to suggestCharts:', error);\n",
              "          }\n",
              "          quickchartButtonEl.classList.remove('colab-df-spinner');\n",
              "          quickchartButtonEl.classList.add('colab-df-quickchart-complete');\n",
              "        }\n",
              "        (() => {\n",
              "          let quickchartButtonEl =\n",
              "            document.querySelector('#df-e7dbcb12-28aa-4b33-98e7-b43b90057a4d button');\n",
              "          quickchartButtonEl.style.display =\n",
              "            google.colab.kernel.accessAllowed ? 'block' : 'none';\n",
              "        })();\n",
              "      </script>\n",
              "    </div>\n",
              "\n",
              "    </div>\n",
              "  </div>\n"
            ],
            "application/vnd.google.colaboratory.intrinsic+json": {
              "type": "dataframe",
              "variable_name": "df_death",
              "summary": "{\n  \"name\": \"df_death\",\n  \"rows\": 14,\n  \"fields\": [\n    {\n      \"column\": \"country\",\n      \"properties\": {\n        \"dtype\": \"string\",\n        \"num_unique_values\": 14,\n        \"samples\": [\n          \"Taiwan\",\n          \"United Kingdom\",\n          \"Australia\"\n        ],\n        \"semantic_type\": \"\",\n        \"description\": \"\"\n      }\n    },\n    {\n      \"column\": \"Code\",\n      \"properties\": {\n        \"dtype\": \"string\",\n        \"num_unique_values\": 14,\n        \"samples\": [\n          \"TWN\",\n          \"GBR\",\n          \"AUS\"\n        ],\n        \"semantic_type\": \"\",\n        \"description\": \"\"\n      }\n    },\n    {\n      \"column\": \"Year\",\n      \"properties\": {\n        \"dtype\": \"number\",\n        \"std\": 0,\n        \"min\": 2015,\n        \"max\": 2015,\n        \"num_unique_values\": 1,\n        \"samples\": [\n          2015\n        ],\n        \"semantic_type\": \"\",\n        \"description\": \"\"\n      }\n    },\n    {\n      \"column\": \"Extreme cold\",\n      \"properties\": {\n        \"dtype\": \"number\",\n        \"std\": 0.24080565325042236,\n        \"min\": 0.25,\n        \"max\": 1.06,\n        \"num_unique_values\": 13,\n        \"samples\": [\n          0.45\n        ],\n        \"semantic_type\": \"\",\n        \"description\": \"\"\n      }\n    },\n    {\n      \"column\": \"Moderate cold\",\n      \"properties\": {\n        \"dtype\": \"number\",\n        \"std\": 2.417412566460991,\n        \"min\": 2.17,\n        \"max\": 9.31,\n        \"num_unique_values\": 14,\n        \"samples\": [\n          3.19\n        ],\n        \"semantic_type\": \"\",\n        \"description\": \"\"\n      }\n    },\n    {\n      \"column\": \"Moderate heat\",\n      \"properties\": {\n        \"dtype\": \"number\",\n        \"std\": 0.2601183162746108,\n        \"min\": 0.03,\n        \"max\": 0.94,\n        \"num_unique_values\": 13,\n        \"samples\": [\n          0.07\n        ],\n        \"semantic_type\": \"\",\n        \"description\": \"\"\n      }\n    },\n    {\n      \"column\": \"Extreme heat\",\n      \"properties\": {\n        \"dtype\": \"number\",\n        \"std\": 0.1442601435289353,\n        \"min\": 0.15,\n        \"max\": 0.67,\n        \"num_unique_values\": 12,\n        \"samples\": [\n          0.28\n        ],\n        \"semantic_type\": \"\",\n        \"description\": \"\"\n      }\n    }\n  ]\n}"
            }
          },
          "metadata": {},
          "execution_count": 6
        }
      ]
    },
    {
      "cell_type": "code",
      "source": [
        "df_demo.info()"
      ],
      "metadata": {
        "id": "_QXKSGXp4oK7",
        "colab": {
          "base_uri": "https://localhost:8080/"
        },
        "outputId": "a2f8264a-a298-4ace-cb2a-372d2918b432"
      },
      "execution_count": 7,
      "outputs": [
        {
          "output_type": "stream",
          "name": "stdout",
          "text": [
            "<class 'pandas.core.frame.DataFrame'>\n",
            "RangeIndex: 714 entries, 0 to 713\n",
            "Data columns (total 9 columns):\n",
            " #   Column                      Non-Null Count  Dtype \n",
            "---  ------                      --------------  ----- \n",
            " 0   Frequenza                   714 non-null    object\n",
            " 1   Territorio                  714 non-null    object\n",
            " 2   Indicatore                  714 non-null    object\n",
            " 3   Sesso                       714 non-null    object\n",
            " 4   Età                         714 non-null    object\n",
            " 5   Stato civile                714 non-null    object\n",
            " 6   TIME_PERIOD                 714 non-null    int64 \n",
            " 7   Osservazione                714 non-null    int64 \n",
            " 8   'Stato dell\"'osservazione'  102 non-null    object\n",
            "dtypes: int64(2), object(7)\n",
            "memory usage: 50.3+ KB\n"
          ]
        }
      ]
    },
    {
      "cell_type": "markdown",
      "source": [
        "df_death è composto da 14 dati e 7 variabili.\n",
        "- In questo dataset tutte le variabili ci serviranno per la realizzazione del nostro progetto.\n",
        "- la variabile \"Country\" permette di stimare la mortalità a livello locale a Bologna.\n",
        "- la variabile \"Code\" semplifica le analisi.\n",
        "- le variabile \"Extreme cold\", \"Moderate cold\", \"Moderate heat\" e \"Extreme heat\" mostrano le percentuali di mortalità con le rispettive fascie di temperatura.\n"
      ],
      "metadata": {
        "id": "CbHHGtVr56zw"
      }
    },
    {
      "cell_type": "markdown",
      "source": [
        "# Personae"
      ],
      "metadata": {
        "id": "Ju_6dhJnKzUj"
      }
    },
    {
      "cell_type": "markdown",
      "source": [
        "\n",
        "\n",
        "---\n",
        "1. Luciana. 84 anni.\n",
        "\n",
        "  Vedova e vive da sola in casa.\n",
        "  E' orgogliosa e tendenzialmente non chiede aiuto.\n",
        "  Vuole essere a conoscenza quando la temperatura diventa pericolosa per la sua salute, così da prendere precauzioni e sentirsi più sicura.\n",
        "---\n",
        "2. Marco, 40 anni.\n",
        "\n",
        "  Operatore sanitario.\n",
        "  E' attento nel suo ambiente di lavoro.\n",
        "  Deve monitorare molti pazienti.\n",
        "  Usa quotidianamente smartphone e sistemi informatici per scopi medici. Vuole sapere quando le situazioni dei pazienti possono diventare rischiose a causa del clima.\n",
        "---\n",
        "3. Manuela, 31 anni.  \n",
        "  \n",
        "  Vive in città con il marito e il figlio di 3 anni.\n",
        "  E' premurosa e attenta alla salute del figlio.\n",
        "  Usa frequentemente lo smartphone.\n",
        "  E' una persona molto organizzata.Vuole sapere quali giorni sono più sicuri per portare il figlio al parco, così da evitare che si ammali."
      ],
      "metadata": {
        "id": "YDuJqEExK1r4"
      }
    },
    {
      "cell_type": "markdown",
      "source": [
        "# User story\n"
      ],
      "metadata": {
        "id": "HhruNM9sy9wI"
      }
    },
    {
      "cell_type": "markdown",
      "source": [
        "# Product canvas"
      ],
      "metadata": {
        "id": "1Dxd15xGg_r3"
      }
    },
    {
      "cell_type": "markdown",
      "source": [
        "Vision:\n",
        "- Offrire un sistema digitale che avverta le categorie a rischio di rischi climitaci dannosi."
      ],
      "metadata": {
        "id": "838tcCZBhDEy"
      }
    },
    {
      "cell_type": "markdown",
      "source": [
        "Goals:\n",
        "- Creare un canale comunicativo tramite un app tra Il SSN e le categorie che permetta di ridurre i danni sociali e sanitari legati al clima.\n",
        "Dare più sicurezza agli utenti."
      ],
      "metadata": {
        "id": "tck8c_MthXXs"
      }
    },
    {
      "cell_type": "markdown",
      "source": [
        "Key metrics:\n",
        "- Temperature giornaliere.\n",
        "- Fascia climatica classificata.\n",
        "- Popolazione totale, over65 e under5.\n",
        "- Percentuali di rischio mortalità stimate."
      ],
      "metadata": {
        "id": "VVJagOmnhN5x"
      }
    },
    {
      "cell_type": "markdown",
      "source": [
        "Target customer segmentation:\n",
        "- Utenti over 65 e genitori di under 5.\n",
        "- Luciana: anziana, 84 anni, vive sola, poco tecnologica.\n",
        "- Marco: operatore sanitario, 40 anni, premuroso e usa sistemi digitali sanitari.\n",
        "- Manuela: mamma, 31 anni, figlio di 3 anni, premurosa, usa spesso lo smartphone."
      ],
      "metadata": {
        "id": "6xV9pbBGhfWq"
      }
    },
    {
      "cell_type": "markdown",
      "source": [
        "Unique value proposition:\n",
        "- Prototipo Colab che integra dati climatici, demografici e sanitari per generare alert e insight climatici.\n",
        "\n"
      ],
      "metadata": {
        "id": "iWMjqUjuh7EQ"
      }
    },
    {
      "cell_type": "markdown",
      "source": [
        "Channels:\n",
        "- Diffusione con la nostra rete sociale di contatti."
      ],
      "metadata": {
        "id": "ok5wukpxinKi"
      }
    },
    {
      "cell_type": "markdown",
      "source": [
        "Customer need:\n",
        "- Sentirsi sicuri e avere la certezza di uscire di casa senza gravi conseguenze per la salute propria e dei propri famigliari.\n",
        "Evitare complicazioni grazie a notifiche semplici, intuitive e immediate."
      ],
      "metadata": {
        "id": "eieDK3qRiCQE"
      }
    },
    {
      "cell_type": "markdown",
      "source": [
        "Key resources:\n",
        "- Risorse esterne: dati meteo, dati demografici e dati che mettono in correlazione mortalità giornaliera e temperatura."
      ],
      "metadata": {
        "id": "RrJCDJlziNw2"
      }
    },
    {
      "cell_type": "markdown",
      "source": [
        "Revenue streams:\n",
        "- il modello è gratuito."
      ],
      "metadata": {
        "id": "R1B7r78-iXGq"
      }
    },
    {
      "cell_type": "markdown",
      "source": [
        "Cost structure:\n",
        "- Nessun costo fisso o variabile."
      ],
      "metadata": {
        "id": "_hPVzgZYicYg"
      }
    },
    {
      "cell_type": "markdown",
      "source": [
        "Luciana: “in quanto donna anziana e pensionata voglio ricevere avvertenze chiare e intuitive sui rischi del clima così da essere preparata al meglio”.\n"
      ],
      "metadata": {
        "id": "f4EAxnvJzDeR"
      }
    },
    {
      "cell_type": "markdown",
      "source": [
        "Marco: “in quanto operatore sanitario voglio sapere in quali giorni il clima è più pericoloso in modo che i miei pazienti a rischio possano poi essere contattati preventivamente anche per limitare l’uso di ambulanze o reparti di emergenza”."
      ],
      "metadata": {
        "id": "k78F4LtjzZSg"
      }
    },
    {
      "cell_type": "markdown",
      "source": [
        "Manuela: “In quanto madre di un bambino piccolo e sensibile ai cambi di temperatura voglio sapere in anticipo quali sono le giornate più indicate per portare fuori mio figlio”."
      ],
      "metadata": {
        "id": "BzNwUyfjzunV"
      }
    },
    {
      "cell_type": "markdown",
      "source": [
        "# **Utilizzo di Essence**\n",
        "\n",
        "Nel corso del progetto abbiamo utilizzato Essence per supportare il lavoro di gruppo in modo strutturato e riflessivo. In particolare, ci è servito per:\n",
        "\n",
        "- Definire e visualizzare gli elementi chiave del progetto, come: Stakeholder, Opportunity, Requirements, Team e Software System.\n",
        "\n",
        "- Guidare le retrospettive di fine sprint, attraverso una riflessione mirata sullo stato degli Alpha principali.\n",
        "\n",
        "- Individuare criticità e adattare il nostro modo di lavorare, soprattutto nella gestione dei dati e nel coordinamento tra notebook.\n",
        "\n",
        "- Mantenere la coerenza tra obiettivi iniziali e risultati prodotti, validando l'efficacia rispetto alle personae e agli use case.\n",
        "\n",
        "L'approccio Essence ci ha aiutato a mantenere una visione d’insieme durante tutto il ciclo di sviluppo agile del progetto.\n",
        "\n"
      ],
      "metadata": {
        "id": "4Jeopgbc3bKu"
      }
    }
  ]
}